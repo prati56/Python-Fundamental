{
 "cells": [
  {
   "cell_type": "markdown",
   "id": "d144e394",
   "metadata": {},
   "source": [
    "# Introduction to python programming:\n",
    "    "
   ]
  },
  {
   "cell_type": "code",
   "execution_count": null,
   "id": "fd986fd7",
   "metadata": {},
   "outputs": [],
   "source": []
  },
  {
   "cell_type": "code",
   "execution_count": null,
   "id": "c0c2fb07",
   "metadata": {},
   "outputs": [],
   "source": [
    "# Understanding of variables in python:"
   ]
  },
  {
   "cell_type": "code",
   "execution_count": 13,
   "id": "53fc370e",
   "metadata": {},
   "outputs": [
    {
     "name": "stdout",
     "output_type": "stream",
     "text": [
      "8\n"
     ]
    }
   ],
   "source": [
    "x=2\n",
    "y=6\n",
    "z=x+y\n",
    "print(z)"
   ]
  },
  {
   "cell_type": "code",
   "execution_count": null,
   "id": "42c1cb06",
   "metadata": {},
   "outputs": [],
   "source": []
  },
  {
   "cell_type": "markdown",
   "id": "dc530741",
   "metadata": {},
   "source": [
    "# Rules for declaring the variables:"
   ]
  },
  {
   "cell_type": "code",
   "execution_count": null,
   "id": "1762413a",
   "metadata": {},
   "outputs": [],
   "source": [
    "Rule no.1:No namesapaces while declaring the variable name.(namespace means space between the variable name)"
   ]
  },
  {
   "cell_type": "code",
   "execution_count": 5,
   "id": "94fb4cc8",
   "metadata": {},
   "outputs": [
    {
     "ename": "SyntaxError",
     "evalue": "invalid syntax (944934071.py, line 1)",
     "output_type": "error",
     "traceback": [
      "\u001b[1;36m  Cell \u001b[1;32mIn[5], line 1\u001b[1;36m\u001b[0m\n\u001b[1;33m    First name='xyz'\u001b[0m\n\u001b[1;37m          ^\u001b[0m\n\u001b[1;31mSyntaxError\u001b[0m\u001b[1;31m:\u001b[0m invalid syntax\n"
     ]
    }
   ],
   "source": [
    "First name='xyz'\n",
    "print(First name)"
   ]
  },
  {
   "cell_type": "code",
   "execution_count": 6,
   "id": "1ca2ddce",
   "metadata": {},
   "outputs": [
    {
     "name": "stdout",
     "output_type": "stream",
     "text": [
      "xyz\n"
     ]
    }
   ],
   "source": [
    "firstname='xyz'\n",
    "print(firstname)"
   ]
  },
  {
   "cell_type": "code",
   "execution_count": null,
   "id": "e2b089ca",
   "metadata": {},
   "outputs": [],
   "source": [
    "Rule no.2: A variable name should not start with a number.(it means variable name can't be like 12abc)"
   ]
  },
  {
   "cell_type": "code",
   "execution_count": 7,
   "id": "1e4c163f",
   "metadata": {},
   "outputs": [
    {
     "ename": "SyntaxError",
     "evalue": "invalid decimal literal (3069103622.py, line 1)",
     "output_type": "error",
     "traceback": [
      "\u001b[1;36m  Cell \u001b[1;32mIn[7], line 1\u001b[1;36m\u001b[0m\n\u001b[1;33m    1name=\"abcd\"\u001b[0m\n\u001b[1;37m    ^\u001b[0m\n\u001b[1;31mSyntaxError\u001b[0m\u001b[1;31m:\u001b[0m invalid decimal literal\n"
     ]
    }
   ],
   "source": [
    "1name=\"abcd\"\n",
    "print(1name)"
   ]
  },
  {
   "cell_type": "code",
   "execution_count": 8,
   "id": "b58a70dc",
   "metadata": {},
   "outputs": [
    {
     "name": "stdout",
     "output_type": "stream",
     "text": [
      "abcd\n"
     ]
    }
   ],
   "source": [
    "name1=\"abcd\"    #we can add number in between or end of the variable name but we can't start variable with number.\n",
    "print(name1)"
   ]
  },
  {
   "cell_type": "code",
   "execution_count": null,
   "id": "7a2e4044",
   "metadata": {},
   "outputs": [],
   "source": [
    "Rule no.3:A variable name should not contain any special character like ! @ # $ & "
   ]
  },
  {
   "cell_type": "code",
   "execution_count": 15,
   "id": "9ebee1d9",
   "metadata": {},
   "outputs": [
    {
     "ename": "SyntaxError",
     "evalue": "invalid syntax (2738240426.py, line 2)",
     "output_type": "error",
     "traceback": [
      "\u001b[1;36m  Cell \u001b[1;32mIn[15], line 2\u001b[1;36m\u001b[0m\n\u001b[1;33m    print(name@)\u001b[0m\n\u001b[1;37m               ^\u001b[0m\n\u001b[1;31mSyntaxError\u001b[0m\u001b[1;31m:\u001b[0m invalid syntax\n"
     ]
    }
   ],
   "source": [
    "name@='james'\n",
    "print(name@)"
   ]
  },
  {
   "cell_type": "code",
   "execution_count": null,
   "id": "0ccc17f8",
   "metadata": {},
   "outputs": [],
   "source": []
  },
  {
   "cell_type": "code",
   "execution_count": null,
   "id": "43afcd21",
   "metadata": {},
   "outputs": [],
   "source": []
  },
  {
   "cell_type": "code",
   "execution_count": null,
   "id": "5a5fe448",
   "metadata": {},
   "outputs": [],
   "source": [
    "Introduction of datatypes in python:\n",
    "    1.Strins->str\n",
    "    2.Number->integers->int,floats(decimal)->1.1,3.4->float\n",
    "    3.List->list\n",
    "    4.Tuple->tuple\n",
    "    5.Dictionaries->dict"
   ]
  },
  {
   "cell_type": "code",
   "execution_count": null,
   "id": "b51382b8",
   "metadata": {},
   "outputs": [],
   "source": [
    "Classifiaction of datatypes:\n",
    "    Broadly datatypes are classified in to two different category\n",
    "    1.mutable datatypes->which we can able to edit/alter->flexible in nature.\n",
    "    2.immutable datatypes->which we cannot able to edit/alter->fixed in nature."
   ]
  },
  {
   "cell_type": "code",
   "execution_count": null,
   "id": "2315b05a",
   "metadata": {},
   "outputs": [],
   "source": []
  },
  {
   "cell_type": "code",
   "execution_count": null,
   "id": "67842533",
   "metadata": {},
   "outputs": [],
   "source": []
  },
  {
   "cell_type": "code",
   "execution_count": null,
   "id": "f15805c0",
   "metadata": {},
   "outputs": [],
   "source": [
    "Introduction to string datatypes:\n",
    "    \n",
    "    Defination :a string is a series of characters declared in quotes(''or\"\")\n",
    "        \n",
    "    classification:immutable in nature\n",
    "    1.single quote('')\n",
    "    2.dounle quote(\"\")\n",
    "    "
   ]
  },
  {
   "cell_type": "code",
   "execution_count": 10,
   "id": "32ce660c",
   "metadata": {},
   "outputs": [
    {
     "name": "stdout",
     "output_type": "stream",
     "text": [
      "raj\n"
     ]
    }
   ],
   "source": [
    "a='raj'\n",
    "print(a)"
   ]
  },
  {
   "cell_type": "code",
   "execution_count": 12,
   "id": "d97514fc",
   "metadata": {},
   "outputs": [
    {
     "name": "stdout",
     "output_type": "stream",
     "text": [
      "dolly\n"
     ]
    }
   ],
   "source": [
    "b=\"dolly\"\n",
    "print(b)"
   ]
  },
  {
   "cell_type": "code",
   "execution_count": null,
   "id": "d58be418",
   "metadata": {},
   "outputs": [],
   "source": []
  },
  {
   "cell_type": "code",
   "execution_count": null,
   "id": "d0838623",
   "metadata": {},
   "outputs": [],
   "source": []
  },
  {
   "cell_type": "code",
   "execution_count": null,
   "id": "5d4d6533",
   "metadata": {},
   "outputs": [],
   "source": []
  }
 ],
 "metadata": {
  "kernelspec": {
   "display_name": "Python 3 (ipykernel)",
   "language": "python",
   "name": "python3"
  },
  "language_info": {
   "codemirror_mode": {
    "name": "ipython",
    "version": 3
   },
   "file_extension": ".py",
   "mimetype": "text/x-python",
   "name": "python",
   "nbconvert_exporter": "python",
   "pygments_lexer": "ipython3",
   "version": "3.11.4"
  }
 },
 "nbformat": 4,
 "nbformat_minor": 5
}
